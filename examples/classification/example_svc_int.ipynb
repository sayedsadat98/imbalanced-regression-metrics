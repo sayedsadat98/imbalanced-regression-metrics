{
 "cells": [
  {
   "attachments": {},
   "cell_type": "markdown",
   "metadata": {},
   "source": [
    "# ImbalanceMetrics (Classification): Usage\n",
    "## Example 2: Intermediate"
   ]
  },
  {
   "attachments": {},
   "cell_type": "markdown",
   "metadata": {},
   "source": [
    "## Dependencies\n",
    "First, we load the required dependencies. Here we import classification_metrics from imbalance_metrics to evalute the result we get from the SVC. In addition, we use pandas for data handling and cross_validate for crossvalidation."
   ]
  },
  {
   "cell_type": "code",
   "execution_count": 1,
   "metadata": {},
   "outputs": [],
   "source": [
    "# load dependencies\n",
    "import numpy as np\n",
    "from sklearn import svm\n",
    "from sklearn.metrics import  make_scorer\n",
    "from sklearn.model_selection import cross_validate\n",
    "from imbalance_metrics import classification_metrics as cm\n",
    "import pandas as pd"
   ]
  },
  {
   "attachments": {},
   "cell_type": "markdown",
   "metadata": {},
   "source": [
    "## Data\n",
    "After, we load our data. This dataset is taken from the KEEL repository."
   ]
  },
  {
   "cell_type": "code",
   "execution_count": 2,
   "metadata": {},
   "outputs": [
    {
     "data": {
      "text/html": [
       "<div>\n",
       "<style scoped>\n",
       "    .dataframe tbody tr th:only-of-type {\n",
       "        vertical-align: middle;\n",
       "    }\n",
       "\n",
       "    .dataframe tbody tr th {\n",
       "        vertical-align: top;\n",
       "    }\n",
       "\n",
       "    .dataframe thead th {\n",
       "        text-align: right;\n",
       "    }\n",
       "</style>\n",
       "<table border=\"1\" class=\"dataframe\">\n",
       "  <thead>\n",
       "    <tr style=\"text-align: right;\">\n",
       "      <th></th>\n",
       "      <th>0</th>\n",
       "      <th>1</th>\n",
       "      <th>2</th>\n",
       "      <th>3</th>\n",
       "      <th>4</th>\n",
       "      <th>5</th>\n",
       "      <th>6</th>\n",
       "      <th>7</th>\n",
       "      <th>8</th>\n",
       "      <th>9</th>\n",
       "      <th>10</th>\n",
       "    </tr>\n",
       "  </thead>\n",
       "  <tbody>\n",
       "    <tr>\n",
       "      <th>0</th>\n",
       "      <td>1</td>\n",
       "      <td>2</td>\n",
       "      <td>3</td>\n",
       "      <td>2</td>\n",
       "      <td>4</td>\n",
       "      <td>2</td>\n",
       "      <td>2</td>\n",
       "      <td>2</td>\n",
       "      <td>1</td>\n",
       "      <td>8</td>\n",
       "      <td>0</td>\n",
       "    </tr>\n",
       "    <tr>\n",
       "      <th>1</th>\n",
       "      <td>3</td>\n",
       "      <td>10</td>\n",
       "      <td>3</td>\n",
       "      <td>12</td>\n",
       "      <td>4</td>\n",
       "      <td>10</td>\n",
       "      <td>1</td>\n",
       "      <td>10</td>\n",
       "      <td>2</td>\n",
       "      <td>10</td>\n",
       "      <td>0</td>\n",
       "    </tr>\n",
       "    <tr>\n",
       "      <th>2</th>\n",
       "      <td>1</td>\n",
       "      <td>13</td>\n",
       "      <td>2</td>\n",
       "      <td>6</td>\n",
       "      <td>4</td>\n",
       "      <td>6</td>\n",
       "      <td>3</td>\n",
       "      <td>6</td>\n",
       "      <td>1</td>\n",
       "      <td>6</td>\n",
       "      <td>0</td>\n",
       "    </tr>\n",
       "    <tr>\n",
       "      <th>3</th>\n",
       "      <td>4</td>\n",
       "      <td>1</td>\n",
       "      <td>1</td>\n",
       "      <td>1</td>\n",
       "      <td>3</td>\n",
       "      <td>2</td>\n",
       "      <td>3</td>\n",
       "      <td>1</td>\n",
       "      <td>2</td>\n",
       "      <td>1</td>\n",
       "      <td>0</td>\n",
       "    </tr>\n",
       "    <tr>\n",
       "      <th>4</th>\n",
       "      <td>2</td>\n",
       "      <td>9</td>\n",
       "      <td>4</td>\n",
       "      <td>6</td>\n",
       "      <td>3</td>\n",
       "      <td>9</td>\n",
       "      <td>4</td>\n",
       "      <td>9</td>\n",
       "      <td>1</td>\n",
       "      <td>9</td>\n",
       "      <td>0</td>\n",
       "    </tr>\n",
       "  </tbody>\n",
       "</table>\n",
       "</div>"
      ],
      "text/plain": [
       "   0   1   2   3   4   5   6   7   8   9   10\n",
       "0   1   2   3   2   4   2   2   2   1   8   0\n",
       "1   3  10   3  12   4  10   1  10   2  10   0\n",
       "2   1  13   2   6   4   6   3   6   1   6   0\n",
       "3   4   1   1   1   3   2   3   1   2   1   0\n",
       "4   2   9   4   6   3   9   4   9   1   9   0"
      ]
     },
     "execution_count": 2,
     "metadata": {},
     "output_type": "execute_result"
    }
   ],
   "source": [
    "# load data\n",
    "df = pd.read_csv(\n",
    "    'https://raw.githubusercontent.com/paobranco/ImbalanceMetrics/main/data/poker-9_vs_7(processed).csv', header=None\n",
    ")\n",
    "df.head()"
   ]
  },
  {
   "cell_type": "code",
   "execution_count": 3,
   "metadata": {},
   "outputs": [
    {
     "data": {
      "text/html": [
       "<div>\n",
       "<style scoped>\n",
       "    .dataframe tbody tr th:only-of-type {\n",
       "        vertical-align: middle;\n",
       "    }\n",
       "\n",
       "    .dataframe tbody tr th {\n",
       "        vertical-align: top;\n",
       "    }\n",
       "\n",
       "    .dataframe thead th {\n",
       "        text-align: right;\n",
       "    }\n",
       "</style>\n",
       "<table border=\"1\" class=\"dataframe\">\n",
       "  <thead>\n",
       "    <tr style=\"text-align: right;\">\n",
       "      <th></th>\n",
       "      <th>0</th>\n",
       "      <th>1</th>\n",
       "      <th>2</th>\n",
       "      <th>3</th>\n",
       "      <th>4</th>\n",
       "      <th>5</th>\n",
       "      <th>6</th>\n",
       "      <th>7</th>\n",
       "      <th>8</th>\n",
       "      <th>9</th>\n",
       "      <th>10</th>\n",
       "    </tr>\n",
       "  </thead>\n",
       "  <tbody>\n",
       "    <tr>\n",
       "      <th>count</th>\n",
       "      <td>244.000000</td>\n",
       "      <td>244.000000</td>\n",
       "      <td>244.000000</td>\n",
       "      <td>244.000000</td>\n",
       "      <td>244.000000</td>\n",
       "      <td>244.000000</td>\n",
       "      <td>244.000000</td>\n",
       "      <td>244.000000</td>\n",
       "      <td>244.000000</td>\n",
       "      <td>244.000000</td>\n",
       "      <td>244.000000</td>\n",
       "    </tr>\n",
       "    <tr>\n",
       "      <th>mean</th>\n",
       "      <td>2.454918</td>\n",
       "      <td>6.758197</td>\n",
       "      <td>2.508197</td>\n",
       "      <td>6.926230</td>\n",
       "      <td>2.573770</td>\n",
       "      <td>6.590164</td>\n",
       "      <td>2.545082</td>\n",
       "      <td>7.073770</td>\n",
       "      <td>2.540984</td>\n",
       "      <td>6.790984</td>\n",
       "      <td>0.032787</td>\n",
       "    </tr>\n",
       "    <tr>\n",
       "      <th>std</th>\n",
       "      <td>1.085831</td>\n",
       "      <td>3.971469</td>\n",
       "      <td>1.145727</td>\n",
       "      <td>3.822541</td>\n",
       "      <td>1.095581</td>\n",
       "      <td>3.805463</td>\n",
       "      <td>1.112044</td>\n",
       "      <td>3.822541</td>\n",
       "      <td>1.115897</td>\n",
       "      <td>3.758305</td>\n",
       "      <td>0.178444</td>\n",
       "    </tr>\n",
       "    <tr>\n",
       "      <th>min</th>\n",
       "      <td>1.000000</td>\n",
       "      <td>1.000000</td>\n",
       "      <td>1.000000</td>\n",
       "      <td>1.000000</td>\n",
       "      <td>1.000000</td>\n",
       "      <td>1.000000</td>\n",
       "      <td>1.000000</td>\n",
       "      <td>1.000000</td>\n",
       "      <td>1.000000</td>\n",
       "      <td>1.000000</td>\n",
       "      <td>0.000000</td>\n",
       "    </tr>\n",
       "    <tr>\n",
       "      <th>25%</th>\n",
       "      <td>2.000000</td>\n",
       "      <td>3.000000</td>\n",
       "      <td>1.000000</td>\n",
       "      <td>3.000000</td>\n",
       "      <td>2.000000</td>\n",
       "      <td>3.000000</td>\n",
       "      <td>2.000000</td>\n",
       "      <td>3.750000</td>\n",
       "      <td>2.000000</td>\n",
       "      <td>3.000000</td>\n",
       "      <td>0.000000</td>\n",
       "    </tr>\n",
       "    <tr>\n",
       "      <th>50%</th>\n",
       "      <td>2.000000</td>\n",
       "      <td>6.500000</td>\n",
       "      <td>2.000000</td>\n",
       "      <td>7.000000</td>\n",
       "      <td>3.000000</td>\n",
       "      <td>7.000000</td>\n",
       "      <td>3.000000</td>\n",
       "      <td>7.000000</td>\n",
       "      <td>2.000000</td>\n",
       "      <td>7.000000</td>\n",
       "      <td>0.000000</td>\n",
       "    </tr>\n",
       "    <tr>\n",
       "      <th>75%</th>\n",
       "      <td>3.000000</td>\n",
       "      <td>10.000000</td>\n",
       "      <td>4.000000</td>\n",
       "      <td>10.000000</td>\n",
       "      <td>4.000000</td>\n",
       "      <td>10.000000</td>\n",
       "      <td>4.000000</td>\n",
       "      <td>11.000000</td>\n",
       "      <td>4.000000</td>\n",
       "      <td>10.000000</td>\n",
       "      <td>0.000000</td>\n",
       "    </tr>\n",
       "    <tr>\n",
       "      <th>max</th>\n",
       "      <td>4.000000</td>\n",
       "      <td>13.000000</td>\n",
       "      <td>4.000000</td>\n",
       "      <td>13.000000</td>\n",
       "      <td>4.000000</td>\n",
       "      <td>13.000000</td>\n",
       "      <td>4.000000</td>\n",
       "      <td>13.000000</td>\n",
       "      <td>4.000000</td>\n",
       "      <td>13.000000</td>\n",
       "      <td>1.000000</td>\n",
       "    </tr>\n",
       "  </tbody>\n",
       "</table>\n",
       "</div>"
      ],
      "text/plain": [
       "               0           1           2           3           4           5   \\\n",
       "count  244.000000  244.000000  244.000000  244.000000  244.000000  244.000000   \n",
       "mean     2.454918    6.758197    2.508197    6.926230    2.573770    6.590164   \n",
       "std      1.085831    3.971469    1.145727    3.822541    1.095581    3.805463   \n",
       "min      1.000000    1.000000    1.000000    1.000000    1.000000    1.000000   \n",
       "25%      2.000000    3.000000    1.000000    3.000000    2.000000    3.000000   \n",
       "50%      2.000000    6.500000    2.000000    7.000000    3.000000    7.000000   \n",
       "75%      3.000000   10.000000    4.000000   10.000000    4.000000   10.000000   \n",
       "max      4.000000   13.000000    4.000000   13.000000    4.000000   13.000000   \n",
       "\n",
       "               6           7           8           9           10  \n",
       "count  244.000000  244.000000  244.000000  244.000000  244.000000  \n",
       "mean     2.545082    7.073770    2.540984    6.790984    0.032787  \n",
       "std      1.112044    3.822541    1.115897    3.758305    0.178444  \n",
       "min      1.000000    1.000000    1.000000    1.000000    0.000000  \n",
       "25%      2.000000    3.750000    2.000000    3.000000    0.000000  \n",
       "50%      3.000000    7.000000    2.000000    7.000000    0.000000  \n",
       "75%      4.000000   11.000000    4.000000   10.000000    0.000000  \n",
       "max      4.000000   13.000000    4.000000   13.000000    1.000000  "
      ]
     },
     "execution_count": 3,
     "metadata": {},
     "output_type": "execute_result"
    }
   ],
   "source": [
    "df.describe()\n"
   ]
  },
  {
   "cell_type": "code",
   "execution_count": 4,
   "metadata": {},
   "outputs": [],
   "source": [
    "# Assign x and y values from the dataframe\n",
    "X = df.drop(columns=[10])\n",
    "y = df[10]\n"
   ]
  },
  {
   "attachments": {},
   "cell_type": "markdown",
   "metadata": {},
   "source": [
    "As the gmean_score, pr_davis and pr_manning are not `Sklearn`'s builtin metrics, we need to modify them a bit to use them in cross_validate funtion. We can use make_scorer from `Sklearn` to covert them to `Sklearn` compatible metrics."
   ]
  },
  {
   "cell_type": "code",
   "execution_count": 5,
   "metadata": {},
   "outputs": [],
   "source": [
    "gmean=make_scorer(cm.gmean_score)\n",
    "davis=make_scorer(cm.pr_davis,needs_proba=True)\n",
    "manning=make_scorer(cm.pr_manning,needs_proba=True)"
   ]
  },
  {
   "attachments": {},
   "cell_type": "markdown",
   "metadata": {},
   "source": [
    "## Model\n",
    "After, we train our model with data. In this example, we use the `svm.SVC()` from sklearn. We are also using cross_validate function. As for metrics, we have passed the metrics 'f1','gmean','h_score','davis' and 'manning'as parameter."
   ]
  },
  {
   "cell_type": "code",
   "execution_count": 6,
   "metadata": {},
   "outputs": [
    {
     "name": "stdout",
     "output_type": "stream",
     "text": [
      "Using 1 as minority class\n",
      "Using 1 as minority class\n",
      "Using 1 as minority class\n",
      "Using 1 as minority class\n",
      "Using 1 as minority class\n",
      "Using 1 as minority class\n",
      "Using 1 as minority class\n",
      "Using 1 as minority class\n",
      "Using 1 as minority class\n",
      "Using 1 as minority class\n",
      "Using 1 as minority class\n",
      "Using 1 as minority class\n",
      "Using 1 as minority class\n",
      "Using 1 as minority class\n",
      "Using 1 as minority class\n",
      "Using 1 as minority class\n",
      "Using 1 as minority class\n",
      "Using 1 as minority class\n",
      "Using 1 as minority class\n",
      "Using 1 as minority class\n",
      "Using 1 as minority class\n",
      "Using 1 as minority class\n",
      "Using 1 as minority class\n",
      "Using 1 as minority class\n"
     ]
    }
   ],
   "source": [
    "clf = svm.SVC(kernel=\"linear\", probability=True, random_state=0)\n",
    "cv=cross_validate(clf, X, y.to_numpy(), cv=6, scoring={'f1': \"f1\",'gmean':gmean,'davis':davis,'manning':manning},return_train_score=True)\n"
   ]
  },
  {
   "attachments": {},
   "cell_type": "markdown",
   "metadata": {},
   "source": [
    "## Evaluation\n",
    "As we have pass the metrics as parameter in the cross_validate function, it calculates the results and returns as a dictionary. We are now printing the results. "
   ]
  },
  {
   "cell_type": "code",
   "execution_count": 7,
   "metadata": {},
   "outputs": [
    {
     "name": "stdout",
     "output_type": "stream",
     "text": [
      "F1 Score: [0.         0.         0.66666667 0.         0.         1.        ]\n",
      "Gmean Score: [0.         0.         0.70710678 0.         0.         1.        ]\n",
      "Davis Interpolation: [0.01219512 0.01219512 0.51844512 0.51844512 0.01315789 0.0125    ]\n",
      "Manning Interpolation: [0.02439024 0.02439024 0.52439024 0.52439024 0.02631579 0.025     ]\n"
     ]
    }
   ],
   "source": [
    "# Printing the result\n",
    "print(\"F1 Score:\", cv['test_f1'])\n",
    "print(\"Gmean Score:\", cv['test_gmean'])\n",
    "print(\"Davis Interpolation:\", cv['test_davis'])\n",
    "print(\"Manning Interpolation:\", cv['test_manning'])\n"
   ]
  },
  {
   "attachments": {},
   "cell_type": "markdown",
   "metadata": {},
   "source": [
    "## Conclusion\n",
    "\n",
    "In this package, we have presented a set of evaluation metrics specifically designed for imbalanced domains. Our package, \"ImbalanceMetrics\", provides a comprehensive set of evaluation metrics to assess the performance of machine learning models trained on imbalanced datasets.\n",
    "\n",
    "Our package includes several evaluation metrics that address the challenges of imbalanced domains. These metrics can provide a more accurate assessment of model performance than traditional metrics, which can be misleading in imbalanced domains.\n",
    "\n",
    "To learn more about our package, please refer to the documentation, which includes detailed descriptions of all the available metrics and their usage."
   ]
  }
 ],
 "metadata": {
  "kernelspec": {
   "display_name": "Python 3",
   "language": "python",
   "name": "python3"
  },
  "language_info": {
   "codemirror_mode": {
    "name": "ipython",
    "version": 3
   },
   "file_extension": ".py",
   "mimetype": "text/x-python",
   "name": "python",
   "nbconvert_exporter": "python",
   "pygments_lexer": "ipython3",
   "version": "3.10.9"
  },
  "orig_nbformat": 4,
  "vscode": {
   "interpreter": {
    "hash": "94a785af1193d76d93209509f96efa5fea05cc7bc5e0b97b40dbaa0c7dd300a2"
   }
  }
 },
 "nbformat": 4,
 "nbformat_minor": 2
}

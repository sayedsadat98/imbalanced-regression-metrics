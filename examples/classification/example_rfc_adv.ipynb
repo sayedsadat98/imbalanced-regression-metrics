{
 "cells": [
  {
   "attachments": {},
   "cell_type": "markdown",
   "metadata": {},
   "source": [
    "# ImbalanceMetrics (Classification): Usage\n",
    "## Example 3: Advanced"
   ]
  },
  {
   "attachments": {},
   "cell_type": "markdown",
   "metadata": {},
   "source": [
    "## Dependencies\n",
    "First, we load the required dependencies. Here we import classification_metrics from imbalance_metrics to evalute the result we get from the RandomForestClassifier. In addition, we use pandas for data handling, StratifiedKFold for crossvalidation and matplotlib to visualize the result."
   ]
  },
  {
   "cell_type": "code",
   "execution_count": 1,
   "metadata": {},
   "outputs": [],
   "source": [
    "## load dependencies\n",
    "import numpy as np\n",
    "\n",
    "import matplotlib.pyplot as plt\n",
    "\n",
    "from sklearn.metrics import  roc_auc_score,  precision_recall_curve, average_precision_score, auc\n",
    "from sklearn.model_selection import StratifiedKFold\n",
    "from sklearn.ensemble import RandomForestClassifier\n",
    "from sklearn.svm import SVC\n",
    "from imbalance_metrics import classification_metrics as cm\n",
    "import pandas as pd"
   ]
  },
  {
   "attachments": {},
   "cell_type": "markdown",
   "metadata": {},
   "source": [
    "## Data\n",
    "After, we load our data. This dataset is taken from the KEEL repository."
   ]
  },
  {
   "cell_type": "code",
   "execution_count": 2,
   "metadata": {},
   "outputs": [
    {
     "data": {
      "text/html": [
       "<div>\n",
       "<style scoped>\n",
       "    .dataframe tbody tr th:only-of-type {\n",
       "        vertical-align: middle;\n",
       "    }\n",
       "\n",
       "    .dataframe tbody tr th {\n",
       "        vertical-align: top;\n",
       "    }\n",
       "\n",
       "    .dataframe thead th {\n",
       "        text-align: right;\n",
       "    }\n",
       "</style>\n",
       "<table border=\"1\" class=\"dataframe\">\n",
       "  <thead>\n",
       "    <tr style=\"text-align: right;\">\n",
       "      <th></th>\n",
       "      <th>0</th>\n",
       "      <th>1</th>\n",
       "      <th>2</th>\n",
       "      <th>3</th>\n",
       "      <th>4</th>\n",
       "      <th>5</th>\n",
       "      <th>6</th>\n",
       "      <th>7</th>\n",
       "      <th>8</th>\n",
       "      <th>9</th>\n",
       "    </tr>\n",
       "  </thead>\n",
       "  <tbody>\n",
       "    <tr>\n",
       "      <th>0</th>\n",
       "      <td>1.515888</td>\n",
       "      <td>12.87795</td>\n",
       "      <td>3.43036</td>\n",
       "      <td>1.40066</td>\n",
       "      <td>73.2820</td>\n",
       "      <td>0.68931</td>\n",
       "      <td>8.04468</td>\n",
       "      <td>0.0</td>\n",
       "      <td>0.1224</td>\n",
       "      <td>0</td>\n",
       "    </tr>\n",
       "    <tr>\n",
       "      <th>1</th>\n",
       "      <td>1.517642</td>\n",
       "      <td>12.97770</td>\n",
       "      <td>3.53812</td>\n",
       "      <td>1.21127</td>\n",
       "      <td>73.0020</td>\n",
       "      <td>0.65205</td>\n",
       "      <td>8.52888</td>\n",
       "      <td>0.0</td>\n",
       "      <td>0.0000</td>\n",
       "      <td>0</td>\n",
       "    </tr>\n",
       "    <tr>\n",
       "      <th>2</th>\n",
       "      <td>1.522130</td>\n",
       "      <td>14.20795</td>\n",
       "      <td>3.82099</td>\n",
       "      <td>0.46976</td>\n",
       "      <td>71.7700</td>\n",
       "      <td>0.11178</td>\n",
       "      <td>9.57260</td>\n",
       "      <td>0.0</td>\n",
       "      <td>0.0000</td>\n",
       "      <td>0</td>\n",
       "    </tr>\n",
       "    <tr>\n",
       "      <th>3</th>\n",
       "      <td>1.522221</td>\n",
       "      <td>13.21045</td>\n",
       "      <td>3.77160</td>\n",
       "      <td>0.79076</td>\n",
       "      <td>71.9884</td>\n",
       "      <td>0.13041</td>\n",
       "      <td>10.24520</td>\n",
       "      <td>0.0</td>\n",
       "      <td>0.0000</td>\n",
       "      <td>0</td>\n",
       "    </tr>\n",
       "    <tr>\n",
       "      <th>4</th>\n",
       "      <td>1.517551</td>\n",
       "      <td>13.39000</td>\n",
       "      <td>3.65935</td>\n",
       "      <td>1.18880</td>\n",
       "      <td>72.7892</td>\n",
       "      <td>0.57132</td>\n",
       "      <td>8.27064</td>\n",
       "      <td>0.0</td>\n",
       "      <td>0.0561</td>\n",
       "      <td>0</td>\n",
       "    </tr>\n",
       "  </tbody>\n",
       "</table>\n",
       "</div>"
      ],
      "text/plain": [
       "          0         1        2        3        4        5         6    7  \\\n",
       "0  1.515888  12.87795  3.43036  1.40066  73.2820  0.68931   8.04468  0.0   \n",
       "1  1.517642  12.97770  3.53812  1.21127  73.0020  0.65205   8.52888  0.0   \n",
       "2  1.522130  14.20795  3.82099  0.46976  71.7700  0.11178   9.57260  0.0   \n",
       "3  1.522221  13.21045  3.77160  0.79076  71.9884  0.13041  10.24520  0.0   \n",
       "4  1.517551  13.39000  3.65935  1.18880  72.7892  0.57132   8.27064  0.0   \n",
       "\n",
       "        8  9  \n",
       "0  0.1224  0  \n",
       "1  0.0000  0  \n",
       "2  0.0000  0  \n",
       "3  0.0000  0  \n",
       "4  0.0561  0  "
      ]
     },
     "execution_count": 2,
     "metadata": {},
     "output_type": "execute_result"
    }
   ],
   "source": [
    "## load data\n",
    "df = pd.read_csv(\n",
    "    'https://raw.githubusercontent.com/paobranco/ImbalanceMetrics/main/data/glass0.csv', skipinitialspace=True, header=None\n",
    ")\n",
    "df.head()"
   ]
  },
  {
   "cell_type": "code",
   "execution_count": 3,
   "metadata": {},
   "outputs": [
    {
     "data": {
      "text/html": [
       "<div>\n",
       "<style scoped>\n",
       "    .dataframe tbody tr th:only-of-type {\n",
       "        vertical-align: middle;\n",
       "    }\n",
       "\n",
       "    .dataframe tbody tr th {\n",
       "        vertical-align: top;\n",
       "    }\n",
       "\n",
       "    .dataframe thead th {\n",
       "        text-align: right;\n",
       "    }\n",
       "</style>\n",
       "<table border=\"1\" class=\"dataframe\">\n",
       "  <thead>\n",
       "    <tr style=\"text-align: right;\">\n",
       "      <th></th>\n",
       "      <th>0</th>\n",
       "      <th>1</th>\n",
       "      <th>2</th>\n",
       "      <th>3</th>\n",
       "      <th>4</th>\n",
       "      <th>5</th>\n",
       "      <th>6</th>\n",
       "      <th>7</th>\n",
       "      <th>8</th>\n",
       "      <th>9</th>\n",
       "    </tr>\n",
       "  </thead>\n",
       "  <tbody>\n",
       "    <tr>\n",
       "      <th>count</th>\n",
       "      <td>214.000000</td>\n",
       "      <td>214.000000</td>\n",
       "      <td>214.000000</td>\n",
       "      <td>214.000000</td>\n",
       "      <td>214.000000</td>\n",
       "      <td>214.000000</td>\n",
       "      <td>214.000000</td>\n",
       "      <td>214.000000</td>\n",
       "      <td>214.000000</td>\n",
       "      <td>214.000000</td>\n",
       "    </tr>\n",
       "    <tr>\n",
       "      <th>mean</th>\n",
       "      <td>1.518366</td>\n",
       "      <td>13.413409</td>\n",
       "      <td>2.684516</td>\n",
       "      <td>1.444895</td>\n",
       "      <td>72.655649</td>\n",
       "      <td>0.497235</td>\n",
       "      <td>8.960538</td>\n",
       "      <td>0.177563</td>\n",
       "      <td>0.042611</td>\n",
       "      <td>0.672897</td>\n",
       "    </tr>\n",
       "    <tr>\n",
       "      <th>std</th>\n",
       "      <td>0.003037</td>\n",
       "      <td>0.819794</td>\n",
       "      <td>1.442342</td>\n",
       "      <td>0.499361</td>\n",
       "      <td>0.778654</td>\n",
       "      <td>0.652188</td>\n",
       "      <td>1.426621</td>\n",
       "      <td>0.497925</td>\n",
       "      <td>0.092474</td>\n",
       "      <td>0.470255</td>\n",
       "    </tr>\n",
       "    <tr>\n",
       "      <th>min</th>\n",
       "      <td>1.511150</td>\n",
       "      <td>10.730000</td>\n",
       "      <td>0.000000</td>\n",
       "      <td>0.290000</td>\n",
       "      <td>69.810000</td>\n",
       "      <td>0.000000</td>\n",
       "      <td>5.430000</td>\n",
       "      <td>0.000000</td>\n",
       "      <td>0.000000</td>\n",
       "      <td>0.000000</td>\n",
       "    </tr>\n",
       "    <tr>\n",
       "      <th>25%</th>\n",
       "      <td>1.516526</td>\n",
       "      <td>12.906213</td>\n",
       "      <td>2.113668</td>\n",
       "      <td>1.188800</td>\n",
       "      <td>72.279600</td>\n",
       "      <td>0.121095</td>\n",
       "      <td>8.238360</td>\n",
       "      <td>0.000000</td>\n",
       "      <td>0.000000</td>\n",
       "      <td>0.000000</td>\n",
       "    </tr>\n",
       "    <tr>\n",
       "      <th>50%</th>\n",
       "      <td>1.517688</td>\n",
       "      <td>13.303550</td>\n",
       "      <td>3.479750</td>\n",
       "      <td>1.358930</td>\n",
       "      <td>72.789200</td>\n",
       "      <td>0.555795</td>\n",
       "      <td>8.604200</td>\n",
       "      <td>0.000000</td>\n",
       "      <td>0.000000</td>\n",
       "      <td>1.000000</td>\n",
       "    </tr>\n",
       "    <tr>\n",
       "      <th>75%</th>\n",
       "      <td>1.519163</td>\n",
       "      <td>13.823913</td>\n",
       "      <td>3.600980</td>\n",
       "      <td>1.628570</td>\n",
       "      <td>73.097200</td>\n",
       "      <td>0.608580</td>\n",
       "      <td>9.177170</td>\n",
       "      <td>0.000000</td>\n",
       "      <td>0.056100</td>\n",
       "      <td>1.000000</td>\n",
       "    </tr>\n",
       "    <tr>\n",
       "      <th>max</th>\n",
       "      <td>1.533930</td>\n",
       "      <td>17.380000</td>\n",
       "      <td>4.490000</td>\n",
       "      <td>3.500000</td>\n",
       "      <td>75.410000</td>\n",
       "      <td>6.210000</td>\n",
       "      <td>16.190000</td>\n",
       "      <td>3.150000</td>\n",
       "      <td>0.510000</td>\n",
       "      <td>1.000000</td>\n",
       "    </tr>\n",
       "  </tbody>\n",
       "</table>\n",
       "</div>"
      ],
      "text/plain": [
       "                0           1           2           3           4           5  \\\n",
       "count  214.000000  214.000000  214.000000  214.000000  214.000000  214.000000   \n",
       "mean     1.518366   13.413409    2.684516    1.444895   72.655649    0.497235   \n",
       "std      0.003037    0.819794    1.442342    0.499361    0.778654    0.652188   \n",
       "min      1.511150   10.730000    0.000000    0.290000   69.810000    0.000000   \n",
       "25%      1.516526   12.906213    2.113668    1.188800   72.279600    0.121095   \n",
       "50%      1.517688   13.303550    3.479750    1.358930   72.789200    0.555795   \n",
       "75%      1.519163   13.823913    3.600980    1.628570   73.097200    0.608580   \n",
       "max      1.533930   17.380000    4.490000    3.500000   75.410000    6.210000   \n",
       "\n",
       "                6           7           8           9  \n",
       "count  214.000000  214.000000  214.000000  214.000000  \n",
       "mean     8.960538    0.177563    0.042611    0.672897  \n",
       "std      1.426621    0.497925    0.092474    0.470255  \n",
       "min      5.430000    0.000000    0.000000    0.000000  \n",
       "25%      8.238360    0.000000    0.000000    0.000000  \n",
       "50%      8.604200    0.000000    0.000000    1.000000  \n",
       "75%      9.177170    0.000000    0.056100    1.000000  \n",
       "max     16.190000    3.150000    0.510000    1.000000  "
      ]
     },
     "execution_count": 3,
     "metadata": {},
     "output_type": "execute_result"
    }
   ],
   "source": [
    "df.describe()"
   ]
  },
  {
   "cell_type": "code",
   "execution_count": 4,
   "metadata": {},
   "outputs": [
    {
     "data": {
      "text/plain": [
       "0      0\n",
       "1      0\n",
       "2      0\n",
       "3      0\n",
       "4      0\n",
       "      ..\n",
       "209    1\n",
       "210    1\n",
       "211    1\n",
       "212    1\n",
       "213    1\n",
       "Name: 9, Length: 214, dtype: int64"
      ]
     },
     "execution_count": 4,
     "metadata": {},
     "output_type": "execute_result"
    }
   ],
   "source": [
    "# Assign x and y values from the dataframe\n",
    "X = df.drop(columns=[9])\n",
    "y = df[9]\n",
    "y"
   ]
  },
  {
   "attachments": {},
   "cell_type": "markdown",
   "metadata": {},
   "source": [
    "Here, we are converting categorical y values to numerical. For this experiment, we have converted negative to 0 and positive to 1."
   ]
  },
  {
   "attachments": {},
   "cell_type": "markdown",
   "metadata": {},
   "source": [
    "## Model & Metrics\n",
    "After, we train our model with data. In this example, we use the `RandomForestClassifier()` from sklearn. We are also using cross validation with 6 folds. After 6 folds, we get 'gmean score' and 'hscrors' for each folds along with 'y_probabilites' of all folds which we use to calculate 'Precision-Recall curve','Precision-Recall-Gain curve', 'Davis interpolation' and 'Manning interpolation'. After calculating all the metrics, we plot the data."
   ]
  },
  {
   "cell_type": "code",
   "execution_count": 5,
   "metadata": {},
   "outputs": [],
   "source": [
    "clf = RandomForestClassifier(random_state=42)\n"
   ]
  },
  {
   "attachments": {},
   "cell_type": "markdown",
   "metadata": {},
   "source": [
    "As mentioned earlier, we have used 6 folds cross validation. Here we have calculated gmeans and hscores on each fold and printed them afterward 6 folds."
   ]
  },
  {
   "cell_type": "code",
   "execution_count": 6,
   "metadata": {},
   "outputs": [
    {
     "name": "stdout",
     "output_type": "stream",
     "text": [
      "gmean score:  [0.8766258645533686, 0.8596023825918792, 0.8766258645533686, 0.8154904233293435, 0.7873359887517358]\n"
     ]
    }
   ],
   "source": [
    "# cross validation fold\n",
    "cv = StratifiedKFold(n_splits=5)\n",
    "\n",
    "# declaring lists to store the results in each fold to plot them\n",
    "gmeans = []\n",
    "hscores = []\n",
    "\n",
    "y_probabilities = []\n",
    "y_real = []\n",
    "\n",
    "for train,test in cv.split(X, y) :\n",
    "    #Train the model\n",
    "    clf.fit(X.iloc[train], y.iloc[train])\n",
    "    \n",
    "    #Predictions\n",
    "    pred = clf.predict(X.iloc[test])\n",
    "    pred_proba = clf.predict_proba(X.iloc[test])\n",
    "    \n",
    "\n",
    "    y_real.append(y.iloc[test]) #Storing the real y values for calculating the precision-recall curve\n",
    "    y_probabilities.append(pred_proba[:,0]) #Storing the predictions probabilities of 0 for calculating the precision-recall curve\n",
    "    \n",
    "\n",
    "    #Scores\n",
    "    gmeans.append(cm.gmean_score(y_true=y[test], y_pred=pred))\n",
    "\n",
    "print(\"gmean score: \",gmeans)\n"
   ]
  },
  {
   "attachments": {},
   "cell_type": "markdown",
   "metadata": {},
   "source": [
    "After 5 folds, we also get the probabilites of each fold from the model. Using this we can now calculate 'Precision-Recall curve','Davis interpolation' and 'Manning interpolation'."
   ]
  },
  {
   "cell_type": "code",
   "execution_count": 7,
   "metadata": {},
   "outputs": [
    {
     "name": "stdout",
     "output_type": "stream",
     "text": [
      "Average precision score:  0.4764776400296415\n",
      "Average precision recall davis score:  0.8576082701175363\n",
      "Average precision recall manning score:  0.8576082701175363\n"
     ]
    }
   ],
   "source": [
    "\n",
    "# Make concatenated numpy arrays.\n",
    "y_real = np.concatenate(y_real)\n",
    "y_probabilities = np.concatenate(y_probabilities)\n",
    "\n",
    "#Calculate Precision-Recall curve\n",
    "precision, recall, _ = precision_recall_curve(y_real, y_probabilities,pos_label = 0)\n",
    "pr_auc = auc(recall, precision)\n",
    "pr_auc_ap = average_precision_score(y_real, y_probabilities) #Average precision recall from sklearn\n",
    "print(\"Average precision score: \",pr_auc_ap)\n",
    "\n",
    "lab = 'Overall AUC=%.4f' % (pr_auc)\n",
    "\n",
    "#Calculate Davis interpolation\n",
    "precision_davis, recall_davis, pr_auc_davis = cm.pr_davis(y_real, y_probabilities,True)\n",
    "print(\"Average precision recall davis score: \",pr_auc_davis)\n",
    "\n",
    "#Calculate Manning interpolation\n",
    "recInv, decreasing_max_precision, pr_auc_manning = cm.pr_manning(y_real, y_probabilities,True)\n",
    "print(\"Average precision recall manning score: \",pr_auc_davis)\n",
    "\n"
   ]
  },
  {
   "attachments": {},
   "cell_type": "markdown",
   "metadata": {},
   "source": [
    "## Plotting\n",
    "Lastly, we are plotting the results we have gained earlier."
   ]
  },
  {
   "cell_type": "code",
   "execution_count": 8,
   "metadata": {},
   "outputs": [
    {
     "data": {
      "image/png": "[encoded data removed]",
      "text/plain": [
       "<Figure size 500x500 with 1 Axes>"
      ]
     },
     "metadata": {},
     "output_type": "display_data"
    }
   ],
   "source": [
    "\n",
    "f, axes = plt.subplots(1, 1, figsize=(5, 5))\n",
    "axes.grid(visible=True)\n",
    "axes.step(recall, precision, label=lab, lw=2, color='black')\n",
    "axes.step(recall_davis, precision_davis, label='Davis interpolation AUC=%.4f' % (pr_auc_davis), lw=2, color='red') #Davis interpolation\n",
    "axes.step(recInv, decreasing_max_precision, label='Manning interpolation AUC=%.4f' % (pr_auc_manning), lw=2, color='fuchsia') #Manning interpolation\n",
    "axes.set_xlabel('Recall')\n",
    "axes.set_ylabel('Precision')\n",
    "axes.legend(loc='lower left', fontsize='small')\n",
    "\n",
    "\n",
    "\n",
    "f.tight_layout()\n"
   ]
  },
  {
   "attachments": {},
   "cell_type": "markdown",
   "metadata": {},
   "source": [
    "We can also perform above cross validation by using `cross_validate_auc()` function. The examples are given below."
   ]
  },
  {
   "cell_type": "code",
   "execution_count": 9,
   "metadata": {},
   "outputs": [
    {
     "name": "stdout",
     "output_type": "stream",
     "text": [
      "0.8573713896866004\n"
     ]
    }
   ],
   "source": [
    "# As auc() uses precision and recall, we set pr to True so the cross_validate_auc() calculates precision and recall and use them in auc() function.\n",
    "cv_auc = cm.cross_validate_auc(clf,X,y,auc,5,pr = True)\n",
    "print(cv_auc)"
   ]
  },
  {
   "cell_type": "code",
   "execution_count": 10,
   "metadata": {},
   "outputs": [
    {
     "name": "stdout",
     "output_type": "stream",
     "text": [
      "0.8576082701175363\n"
     ]
    }
   ],
   "source": [
    "cv_davis = cm.cross_validate_auc(clf,X,y,cm.pr_davis,5)\n",
    "print(cv_davis)"
   ]
  },
  {
   "cell_type": "code",
   "execution_count": 11,
   "metadata": {},
   "outputs": [
    {
     "name": "stdout",
     "output_type": "stream",
     "text": [
      "0.8786446518557852\n"
     ]
    }
   ],
   "source": [
    "cv_manning = cm.cross_validate_auc(clf,X,y,cm.pr_manning,5)\n",
    "print(cv_manning)"
   ]
  },
  {
   "attachments": {},
   "cell_type": "markdown",
   "metadata": {},
   "source": [
    "## Conclusion\n",
    "\n",
    "In this package, we have presented a set of evaluation metrics specifically designed for imbalanced domains. Our package, \"ImbalanceMetrics\", provides a comprehensive set of evaluation metrics to assess the performance of machine learning models trained on imbalanced datasets.\n",
    "\n",
    "Our package includes several evaluation metrics that address the challenges of imbalanced domains. These metrics can provide a more accurate assessment of model performance than traditional metrics, which can be misleading in imbalanced domains.\n",
    "\n",
    "To learn more about our package, please refer to the documentation, which includes detailed descriptions of all the available metrics and their usage."
   ]
  }
 ],
 "metadata": {
  "kernelspec": {
   "display_name": "Python 3",
   "language": "python",
   "name": "python3"
  },
  "language_info": {
   "codemirror_mode": {
    "name": "ipython",
    "version": 3
   },
   "file_extension": ".py",
   "mimetype": "text/x-python",
   "name": "python",
   "nbconvert_exporter": "python",
   "pygments_lexer": "ipython3",
   "version": "3.10.9"
  },
  "orig_nbformat": 4,
  "vscode": {
   "interpreter": {
    "hash": "94a785af1193d76d93209509f96efa5fea05cc7bc5e0b97b40dbaa0c7dd300a2"
   }
  }
 },
 "nbformat": 4,
 "nbformat_minor": 2
}
